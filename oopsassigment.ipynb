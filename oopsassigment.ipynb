{
 "cells": [
  {
   "cell_type": "markdown",
   "id": "24ce97f3-0812-4842-a125-5155d6c1d41c",
   "metadata": {},
   "source": [
    "class is the blue print of object. class contain the member and function which perform the operation on the member. each class have an instance which is used to call the member and the function.  "
   ]
  },
  {
   "cell_type": "code",
   "execution_count": 1,
   "id": "7540f600-4c57-4df6-9178-2359a137e513",
   "metadata": {},
   "outputs": [],
   "source": [
    "class dell:# which is the blank class or dummy class do nothing \n",
    "    pass"
   ]
  },
  {
   "cell_type": "code",
   "execution_count": 4,
   "id": "faeb8e77-997f-4213-8cc4-aceab9888471",
   "metadata": {},
   "outputs": [],
   "source": [
    "class bike :\n",
    "    name = \"hero\"\n",
    "    gear = 0\n",
    "\n",
    "# create objects of class\n",
    "bike1 = bike()"
   ]
  },
  {
   "cell_type": "code",
   "execution_count": 5,
   "id": "532facab-abc2-4adb-a9d3-7f8800a1e82c",
   "metadata": {},
   "outputs": [
    {
     "data": {
      "text/plain": [
       "'hero'"
      ]
     },
     "execution_count": 5,
     "metadata": {},
     "output_type": "execute_result"
    }
   ],
   "source": [
    "bike1.name"
   ]
  },
  {
   "cell_type": "code",
   "execution_count": 6,
   "id": "54811636-b9f0-4b45-9222-8b87259eb9f5",
   "metadata": {},
   "outputs": [
    {
     "data": {
      "text/plain": [
       "0"
      ]
     },
     "execution_count": 6,
     "metadata": {},
     "output_type": "execute_result"
    }
   ],
   "source": [
    "bike1.gear"
   ]
  },
  {
   "cell_type": "code",
   "execution_count": 7,
   "id": "bc185f4a-2761-4ef7-8ab2-781d630d1e9f",
   "metadata": {},
   "outputs": [
    {
     "name": "stdout",
     "output_type": "stream",
     "text": [
      "John\n",
      "36\n"
     ]
    }
   ],
   "source": [
    "class Person:\n",
    "  def __init__(self, name, age):# init is the constructor which use to take the data from the user \n",
    "    self.name = name\n",
    "    self.age = age\n",
    "\n",
    "p1 = Person(\"John\", 36)\n",
    "\n",
    "print(p1.name)\n",
    "print(p1.age)"
   ]
  },
  {
   "cell_type": "markdown",
   "id": "3a68a0a8-8db9-420b-8401-7b9bb0e95cfb",
   "metadata": {},
   "source": [
    "Question 2 : there are the four pillar of the oops 1. abstraction  2. inheritance , 3. polymorphisam 4. encapsulation"
   ]
  },
  {
   "cell_type": "code",
   "execution_count": null,
   "id": "9f869075-31b5-4fcb-8e8b-b70681d8ad20",
   "metadata": {},
   "outputs": [],
   "source": [
    "Explain why the __init__() function is used. Give a suitable example.\n",
    "ans: All classes have a function called __init__(), which is always executed when the class is being initiated. \n",
    "It is a constructor which is used to get the data from user."
   ]
  },
  {
   "cell_type": "code",
   "execution_count": 9,
   "id": "452a8618-d557-4fdc-9116-ef5547b0df03",
   "metadata": {},
   "outputs": [
    {
     "name": "stdout",
     "output_type": "stream",
     "text": [
      "John\n",
      "98556688989\n"
     ]
    }
   ],
   "source": [
    "class Person1:\n",
    "  def __init__(self, name, mnumber):# init is the constructor which use to take the data from the user \n",
    "    self.name1 = name\n",
    "    self.mnumber1 = mnumber\n",
    "\n",
    "p2 = Person1(\"John\", 98556688989)\n",
    "\n",
    "print(p2.name1)\n",
    "print(p2.mnumber1)"
   ]
  },
  {
   "cell_type": "markdown",
   "id": "ab510d69-6ec8-47b3-bbfa-c238ac438d23",
   "metadata": {},
   "source": [
    "Why self is used in OOPs?\n",
    "ans: self in Python class. self represents the instance of the class. By using the “self” keyword we can access the attributes and methods of the class in python. It binds the attributes with the given arguments. "
   ]
  },
  {
   "cell_type": "code",
   "execution_count": null,
   "id": "313b64a4-bc0e-4872-bf78-a9038df1f60b",
   "metadata": {},
   "outputs": [],
   "source": [
    "What is inheritance? Give an example for each type of inheritance.\n",
    "ans: Inhertance is the property of oops which allow to reuse ablity of code. the class inheritance mechanism allows multiple base classes, a\n",
    "derived class can override any methods of its base class or classes, and a method can call the method of a base class with the same name.\n",
    "ther are the five type of inheritance. 1.single , 2. multiple, 3. hybrid, 4. multilevel 5. Hierarchical\n",
    "The new class that is created is known as subclass (child or derived class) and the existing class from which \n",
    "the child class is derived is known as superclass (parent or base class)."
   ]
  },
  {
   "cell_type": "code",
   "execution_count": 10,
   "id": "c8b6d163-0f2b-4434-8ca8-97b5a62701ff",
   "metadata": {},
   "outputs": [
    {
     "name": "stdout",
     "output_type": "stream",
     "text": [
      "This function is in parent class.\n",
      "This function is in child class.\n"
     ]
    }
   ],
   "source": [
    "class Parent:\n",
    "    def func1(self):\n",
    "        print(\"This function is in parent class.\")\n",
    " \n",
    "# Derived class\n",
    " \n",
    " \n",
    "class Child(Parent):\n",
    "    def func2(self):\n",
    "        print(\"This function is in child class.\")\n",
    " \n",
    " \n",
    "# Driver's code\n",
    "object = Child()\n",
    "object.func1()\n",
    "object.func2()"
   ]
  },
  {
   "cell_type": "code",
   "execution_count": 11,
   "id": "7dcdf244-cf30-4abb-b6d4-46b539315419",
   "metadata": {},
   "outputs": [
    {
     "name": "stdout",
     "output_type": "stream",
     "text": [
      "Father : RAM\n",
      "Mother : SITA\n"
     ]
    }
   ],
   "source": [
    "# multiple inheritance\n",
    " \n",
    "# Base class1\n",
    "class Mother:\n",
    "    mothername = \"\"\n",
    " \n",
    "    def mother(self):\n",
    "        print(self.mothername)\n",
    " \n",
    "# Base class2\n",
    " \n",
    " \n",
    "class Father:\n",
    "    fathername = \"\"\n",
    " \n",
    "    def father(self):\n",
    "        print(self.fathername)\n",
    " \n",
    "# Derived class\n",
    " \n",
    " \n",
    "class Son(Mother, Father):\n",
    "    def parents(self):\n",
    "        print(\"Father :\", self.fathername)\n",
    "        print(\"Mother :\", self.mothername)\n",
    " \n",
    " \n",
    "# Driver's code\n",
    "s1 = Son()\n",
    "s1.fathername = \"RAM\"\n",
    "s1.mothername = \"SITA\"\n",
    "s1.parents()"
   ]
  },
  {
   "cell_type": "code",
   "execution_count": null,
   "id": "305eb418-f02b-4684-bf3a-207da85469bf",
   "metadata": {},
   "outputs": [],
   "source": []
  }
 ],
 "metadata": {
  "kernelspec": {
   "display_name": "Python 3 (ipykernel)",
   "language": "python",
   "name": "python3"
  },
  "language_info": {
   "codemirror_mode": {
    "name": "ipython",
    "version": 3
   },
   "file_extension": ".py",
   "mimetype": "text/x-python",
   "name": "python",
   "nbconvert_exporter": "python",
   "pygments_lexer": "ipython3",
   "version": "3.10.8"
  }
 },
 "nbformat": 4,
 "nbformat_minor": 5
}
